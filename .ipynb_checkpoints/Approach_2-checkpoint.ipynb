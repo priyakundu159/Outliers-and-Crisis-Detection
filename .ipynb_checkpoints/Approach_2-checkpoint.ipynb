{
 "cells": [
  {
   "cell_type": "markdown",
   "metadata": {},
   "source": [
    "# OCHL VW and N - Polygon API"
   ]
  },
  {
   "cell_type": "markdown",
   "metadata": {},
   "source": [
    "# Day Type - Binary (outlier/no outlier)"
   ]
  },
  {
   "cell_type": "markdown",
   "metadata": {},
   "source": [
    "# Day - Days of the week"
   ]
  },
  {
   "cell_type": "markdown",
   "metadata": {},
   "source": [
    "# Technical Indicators"
   ]
  },
  {
   "cell_type": "markdown",
   "metadata": {},
   "source": [
    "### 1. **10-day Moving Average (MA)**\n",
    "A moving average smooths out price data by creating a constantly updated average price over a specific time period (10 days in this case). This average is typically calculated daily for the last 10 days of closing prices.\n",
    "\n",
    "**Logic**: The 10-day MA provides a smoothed indicator of short-term price trends, reducing the noise of daily price fluctuations. It's often used to identify the direction of the trend; prices above the MA suggest a bullish trend, while prices below indicate a bearish trend.\n",
    "\n",
    "### Calculation:\n",
    "$\\text{10-day MA} = \\frac{\\text{Sum of close prices over the last 10 days}}{10}$"
   ]
  },
  {
   "cell_type": "code",
   "execution_count": null,
   "metadata": {},
   "outputs": [],
   "source": [
    "window = 5 # or 10 or 20\n",
    "\n",
    "df['10-day MA'] = df['Close'].rolling(window=window).mean()"
   ]
  },
  {
   "cell_type": "markdown",
   "metadata": {},
   "source": [
    "### 2. **30-day Volatility**\n",
    "Volatility measures the degree of variation in trading prices over time, typically calculated using the standard deviation of returns.\n",
    "\n",
    "**Logic**: Higher volatility indicates higher risk but also the potential for higher returns. It is crucial for adjusting the size of trades and setting stop-loss and take-profit orders.\n",
    "\n",
    "### Calculation:\n",
    "First, compute daily returns as:\n",
    "$\\text{Return}_t = \\frac{\\text{Close Price}_t - \\text{Close Price}_{t-1}}{\\text{Close Price}_{t-1}}$\n",
    "\n",
    "Then, calculate the standard deviation of these returns over the last 30 days:\n",
    "$\\text{30-day Volatility} = \\text{Standard Deviation of Returns over the last 30 days}$"
   ]
  },
  {
   "cell_type": "code",
   "execution_count": null,
   "metadata": {},
   "outputs": [],
   "source": [
    "# Assuming 'df' is your DataFrame and 'c' is your close price column\n",
    "df['Daily Return'] = df['c'].pct_change()  # For simple returns\n",
    "# or\n",
    "df['Log Daily Return'] = np.log(df['c'] / df['c'].shift(1))  # For logarithmic returns\n",
    "\n",
    "# Number of Forex trading days per year\n",
    "forex_trading_days = 260  # or a more precise count specific to your data and holidays observed\n",
    "\n",
    "# Calculate annualized volatility\n",
    "df['30-day Volatility'] = df['Daily Returns'].rolling(window=30).std() * np.sqrt(forex_trading_days)"
   ]
  },
  {
   "cell_type": "markdown",
   "metadata": {},
   "source": [
    "### 3. **Relative Strength Index (RSI)**\n",
    "RSI is a momentum oscillator that measures the speed and change of price movements on a scale of 0 to 100.\n",
    "\n",
    "**Logic**: The RSI is used to identify overbought or oversold conditions in the trading of an asset.\n",
    "- **Overbought** (typically RSI > 70) — might indicate a price drop soon.\n",
    "- **Oversold** (typically RSI < 30) — might indicate a price rise soon.\n",
    "\n",
    "### Calculation:\n",
    "First, calculate the average gains and losses over the last 14 days:\n",
    "$\\text{RSI} = 100 - \\left( \\frac{100}{1 + \\frac{\\text{Average Gain}}{\\text{Average Loss}}} \\right)$"
   ]
  },
  {
   "cell_type": "code",
   "execution_count": null,
   "metadata": {},
   "outputs": [],
   "source": [
    "def calculate_rsi(data, window=14):\n",
    "    delta = data.diff()\n",
    "    gain = (delta.where(delta > 0, 0)).rolling(window=window).mean()\n",
    "    loss = (-delta.where(delta < 0, 0)).rolling(window=window).mean()\n",
    "\n",
    "    rs = gain / loss\n",
    "    rsi = 100 - (100 / (1 + rs))\n",
    "    return rsi\n",
    "\n",
    "df['RSI'] = calculate_rsi(df['Close'])"
   ]
  },
  {
   "cell_type": "markdown",
   "metadata": {},
   "source": [
    "### 4. **Moving Average Convergence Divergence (MACD)**\n",
    "MACD is a trend-following momentum indicator that shows the relationship between two moving averages of a security’s price.\n",
    "\n",
    "**Logic**: The MACD is calculated by subtracting the 26-day Exponential Moving Average (EMA) from the 12-day EMA. The result of that subtraction is the MACD line. A nine-day EMA of the MACD called the \"signal line,\" is then plotted on top of the MACD line, which can function as a trigger for buy and sell signals.\n",
    "\n",
    "### Calculation:\n",
    "$\\text{MACD Line} = \\text{12-day EMA} - \\text{26-day EMA}$\n",
    "$\\text{Signal Line} = \\text{9-day EMA of MACD Line}$"
   ]
  },
  {
   "cell_type": "code",
   "execution_count": null,
   "metadata": {},
   "outputs": [],
   "source": [
    "def calculate_macd(data, slow=26, fast=12, signal=9):\n",
    "    exp1 = data.ewm(span=fast, adjust=False).mean()\n",
    "    exp2 = data.ewm(span=slow, adjust=False).mean()\n",
    "    macd = exp1 - exp2\n",
    "    signal_line = macd.ewm(span=signal, adjust=False).mean()\n",
    "    return macd, signal_line\n",
    "\n",
    "df['MACD'], df['Signal Line'] = calculate_macd(df['Close'])"
   ]
  },
  {
   "cell_type": "markdown",
   "metadata": {},
   "source": [
    "### 5. **Label (Next Day Price Up/Down)**\n",
    "This label is used as the target variable for a predictive model, indicating whether the price will go up or down the next day relative to the current day’s closing price.\n",
    "\n",
    "**Logic**: This is a straightforward classification problem where you predict a binary outcome; the price will either be higher or lower the following day compared to the closing price of the current day.\n",
    "\n",
    "### Calculation:\n",
    "$\\text{Label} = \n",
    "  \\begin{cases} \n",
    "   1 & \\text{if } \\text{Next Day Close} > \\text{Current Day Close} \\\\\n",
    "   0 & \\text{otherwise}\n",
    "  \\end{cases}$"
   ]
  },
  {
   "cell_type": "markdown",
   "metadata": {},
   "source": []
  }
 ],
 "metadata": {
  "language_info": {
   "name": "python"
  }
 },
 "nbformat": 4,
 "nbformat_minor": 2
}
